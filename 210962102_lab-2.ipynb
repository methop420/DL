{
 "cells": [
  {
   "cell_type": "code",
   "execution_count": 1,
   "id": "e6b0929e-76e2-4d47-800b-e60bfb606f2d",
   "metadata": {},
   "outputs": [],
   "source": [
    "import torch\n",
    "import torch.nn.functional as F"
   ]
  },
  {
   "cell_type": "markdown",
   "id": "37405ffc-2f7b-486a-8df0-c4fbadb52360",
   "metadata": {},
   "source": [
    "# Q1)"
   ]
  },
  {
   "cell_type": "code",
   "execution_count": 2,
   "id": "a5ab4b81-a438-4b60-a826-9d7bd44f119d",
   "metadata": {},
   "outputs": [
    {
     "name": "stdout",
     "output_type": "stream",
     "text": [
      "dz_da = 34.0\n"
     ]
    }
   ],
   "source": [
    "torch.random.manual_seed(69)\n",
    "a = torch.ones(1, requires_grad=True)\n",
    "b = torch.ones(1, requires_grad=True)\n",
    "\n",
    "x = 2*a + 3*b\n",
    "y = 5*a**2 + 3*b**3\n",
    "z = 2*x + 3*y\n",
    "\n",
    "z.backward()\n",
    "\n",
    "print(f\"dz_da = {a.grad.item()}\")"
   ]
  },
  {
   "cell_type": "markdown",
   "id": "41db5a42-6a84-4e05-a902-33d581678c5d",
   "metadata": {},
   "source": [
    "# Q2)"
   ]
  },
  {
   "cell_type": "code",
   "execution_count": 13,
   "id": "dc7d4cb6-5641-4f1b-8189-2ae7610efae2",
   "metadata": {},
   "outputs": [
    {
     "name": "stdout",
     "output_type": "stream",
     "text": [
      "da_dw = 1.0\n"
     ]
    }
   ],
   "source": [
    "torch.random.manual_seed(69)\n",
    "w = torch.tensor(2.0, requires_grad = True)\n",
    "x = torch.tensor(1.0, requires_grad = True)\n",
    "b = torch.tensor(3.0, requires_grad = True)\n",
    "\n",
    "u = w * x\n",
    "v = u + b\n",
    "a = F.relu(v)\n",
    "\n",
    "a.backward()\n",
    "\n",
    "print(f\"da_dw = {w.grad.item()}\")"
   ]
  },
  {
   "cell_type": "markdown",
   "id": "d96d7c7a-bdd6-4bea-8486-e783acc26a8a",
   "metadata": {},
   "source": [
    "# Q3)"
   ]
  },
  {
   "cell_type": "code",
   "execution_count": 6,
   "id": "4cd540de-ccb8-405d-8e63-ea6c4802d0c2",
   "metadata": {},
   "outputs": [
    {
     "name": "stdout",
     "output_type": "stream",
     "text": [
      "da_dw = 0.17223429679870605\n"
     ]
    }
   ],
   "source": [
    "torch.random.manual_seed(69)\n",
    "w = torch.rand(1, requires_grad = True)\n",
    "x = torch.rand(1, requires_grad = True)\n",
    "b = torch.rand(1, requires_grad = True)\n",
    "\n",
    "u = w * x\n",
    "v = u + b\n",
    "a = F.sigmoid(v)\n",
    "\n",
    "a.backward()\n",
    "\n",
    "print(f\"da_dw = {w.grad.item()}\")"
   ]
  },
  {
   "cell_type": "markdown",
   "id": "5a661c05-c1a3-4afa-b4a2-dfe9b6d08b97",
   "metadata": {},
   "source": [
    "# Q4)"
   ]
  },
  {
   "cell_type": "code",
   "execution_count": 7,
   "id": "27f7b6c5-ad5a-4d79-a556-c393742b13ba",
   "metadata": {},
   "outputs": [
    {
     "name": "stdout",
     "output_type": "stream",
     "text": [
      "dy_dx = -0.1901804506778717\n"
     ]
    }
   ],
   "source": [
    "torch.random.manual_seed(69)\n",
    "x = torch.rand(1, requires_grad = True)\n",
    "\n",
    "y = torch.exp(-(x**2 + 2*x + torch.sin(x)))\n",
    "\n",
    "x.grad = None\n",
    "y.backward()\n",
    "\n",
    "print(f\"dy_dx = {x.grad.item()}\")"
   ]
  },
  {
   "cell_type": "markdown",
   "id": "b7544487-a4ce-434d-bbb3-fd52269667ac",
   "metadata": {},
   "source": [
    "# Q5)"
   ]
  },
  {
   "cell_type": "code",
   "execution_count": 8,
   "id": "271073fb-df79-4c48-9d0b-10d18dcb970a",
   "metadata": {},
   "outputs": [
    {
     "name": "stdout",
     "output_type": "stream",
     "text": [
      "dy_dx = 43.05619812011719\n"
     ]
    }
   ],
   "source": [
    "torch.random.manual_seed(69)\n",
    "x = torch.rand(1, requires_grad = True)\n",
    "\n",
    "y = 8*x**4 + 3*x**3 + 7*x**2 + 6*x + 3\n",
    "\n",
    "x.grad = None\n",
    "y.backward()\n",
    "\n",
    "print(f\"dy_dx = {x.grad.item()}\")"
   ]
  },
  {
   "cell_type": "markdown",
   "id": "1322e330-9947-4597-acc1-c1631e47dcab",
   "metadata": {},
   "source": [
    "# Q6)"
   ]
  },
  {
   "cell_type": "code",
   "execution_count": 9,
   "id": "757ec088-7881-4b9e-9d39-591b4b25a072",
   "metadata": {},
   "outputs": [
    {
     "name": "stdout",
     "output_type": "stream",
     "text": [
      "df_dx = tensor([0.2470])\n",
      "df_dy = tensor([-0.1998])\n",
      "df_dz = tensor([1.7093])\n"
     ]
    }
   ],
   "source": [
    "torch.random.manual_seed(69)\n",
    "x = torch.rand(1, requires_grad=True)\n",
    "y = torch.rand(1, requires_grad=True)\n",
    "z = torch.rand(1, requires_grad=True)\n",
    "\n",
    "f = torch.tanh(torch.log(1 + z * (2 * x) / torch.sin(y)))\n",
    "\n",
    "f.backward()\n",
    "\n",
    "print(f\"df_dx = {x.grad}\")\n",
    "print(f\"df_dy = {y.grad}\")\n",
    "print(f\"df_dz = {z.grad}\")"
   ]
  },
  {
   "cell_type": "code",
   "execution_count": null,
   "id": "a54141c6-9d08-4036-bba2-637a6c5bd8be",
   "metadata": {},
   "outputs": [],
   "source": []
  }
 ],
 "metadata": {
  "kernelspec": {
   "display_name": "Python 3 (ipykernel)",
   "language": "python",
   "name": "python3"
  },
  "language_info": {
   "codemirror_mode": {
    "name": "ipython",
    "version": 3
   },
   "file_extension": ".py",
   "mimetype": "text/x-python",
   "name": "python",
   "nbconvert_exporter": "python",
   "pygments_lexer": "ipython3",
   "version": "3.11.7"
  }
 },
 "nbformat": 4,
 "nbformat_minor": 5
}
