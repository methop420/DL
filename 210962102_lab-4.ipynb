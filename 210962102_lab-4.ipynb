{
 "cells": [
  {
   "cell_type": "code",
   "execution_count": 1,
   "id": "cd20762f-6862-40ca-9733-ba1b5b18b29e",
   "metadata": {},
   "outputs": [],
   "source": [
    "import pandas as pd\n",
    "import numpy as np\n",
    "\n",
    "import torch\n",
    "import torch.nn as nn\n",
    "import torch.nn.functional as F\n",
    "\n",
    "from torch.utils.data import DataLoader, Dataset\n",
    "\n",
    "from tqdm.notebook import tqdm\n",
    "\n",
    "import matplotlib.pyplot as plt\n",
    "plt.style.use(\"seaborn-v0_8\")\n",
    "\n",
    "import torchvision\n",
    "import torchvision.transforms as transforms\n",
    "\n",
    "from PIL import Image"
   ]
  },
  {
   "cell_type": "markdown",
   "id": "01dcdf08-1b6d-4af6-8ccc-8df0b4a5f5c4",
   "metadata": {},
   "source": [
    "# Q1) Sigmoid"
   ]
  },
  {
   "cell_type": "code",
   "execution_count": 2,
   "id": "86a5d6e1-e7a6-4547-aec5-980fc605879f",
   "metadata": {},
   "outputs": [],
   "source": [
    "device = \"cuda\" if torch.cuda.is_available() else \"cpu\"\n",
    "\n",
    "class NeuralNetwork(nn.Module):\n",
    "    \n",
    "    def __init__(self, layer_sizes, activation=F.relu):\n",
    "        super(NeuralNetwork, self).__init__()\n",
    "        self.linears = nn.ModuleList(\n",
    "            [nn.Linear(v, layer_sizes[i+1]) for i, v in enumerate(layer_sizes[:-1])]\n",
    "        )\n",
    "        self.activation = activation\n",
    "        \n",
    "    def forward(self, x):\n",
    "        for l in self.linears[:-1]:\n",
    "            x = self.activation(l(x))\n",
    "\n",
    "        x = self.linears[-1](x)\n",
    "        x = F.sigmoid(x)\n",
    "            \n",
    "        return x"
   ]
  },
  {
   "cell_type": "code",
   "execution_count": 3,
   "id": "da3543c8-ba75-4588-a35d-581ab17532b6",
   "metadata": {},
   "outputs": [],
   "source": [
    "X = torch.Tensor([[0, 0], [0, 1], [1, 0], [1, 1]])\n",
    "y = torch.Tensor([0, 1, 1, 0]).reshape(-1, 1)"
   ]
  },
  {
   "cell_type": "code",
   "execution_count": 4,
   "id": "f548c0cf-db5b-4185-bb18-077f4ed6d7e2",
   "metadata": {},
   "outputs": [],
   "source": [
    "class XORDataset(Dataset):\n",
    "\n",
    "    def __init__(self, X, y):\n",
    "        self.X = X\n",
    "        self.y = y\n",
    "\n",
    "    def __len__(self):\n",
    "        return len(self.y)\n",
    "\n",
    "    def __getitem__(self, index):\n",
    "        return self.X[index].to(device), self.y[index].to(device)"
   ]
  },
  {
   "cell_type": "code",
   "execution_count": 5,
   "id": "56cb5d9a-7225-49f0-8da1-aa8426079e0d",
   "metadata": {},
   "outputs": [],
   "source": [
    "xor_data = XORDataset(X, y)\n",
    "xor_dataloader = DataLoader(xor_data, batch_size=4, shuffle=True)"
   ]
  },
  {
   "cell_type": "code",
   "execution_count": 16,
   "id": "278db6cf-676d-4713-bc2c-b2456333793c",
   "metadata": {},
   "outputs": [
    {
     "name": "stdout",
     "output_type": "stream",
     "text": [
      "Final loss = 0.6846773624420166\n"
     ]
    },
    {
     "data": {
      "image/png": "[encoded data removed]",
      "text/plain": [
       "<Figure size 800x550 with 1 Axes>"
      ]
     },
     "metadata": {},
     "output_type": "display_data"
    }
   ],
   "source": [
    "LEARNING_RATE = 0.03\n",
    "NUM_EPOCHS = 10000\n",
    "\n",
    "layers = [2, 2, 1]\n",
    "xor = NeuralNetwork(layers, activation=F.sigmoid).to(device)\n",
    "criterion = nn.BCELoss().to(device)\n",
    "optimizer = torch.optim.SGD(xor.parameters(), lr=LEARNING_RATE)\n",
    "losses = []\n",
    "\n",
    "for epoch in range(NUM_EPOCHS):\n",
    "\n",
    "    for batch_inputs, batch_labels in xor_dataloader:\n",
    "    \n",
    "        optimizer.zero_grad()\n",
    "        outputs = xor(batch_inputs)\n",
    "        loss = criterion(outputs, batch_labels)\n",
    "        \n",
    "        loss.backward()\n",
    "        optimizer.step()\n",
    "        \n",
    "        losses.append(loss.item())\n",
    "\n",
    "    # print(f\"Finished epoch {epoch+1} / {NUM_EPOCHS}\")\n",
    "\n",
    "\n",
    "print(f\"Final loss = {losses[-1]}\")\n",
    "plt.plot(range(NUM_EPOCHS), losses)\n",
    "plt.show()"
   ]
  },
  {
   "cell_type": "code",
   "execution_count": 7,
   "id": "b48ee559-74f3-43ae-b92c-21ead3b881a4",
   "metadata": {},
   "outputs": [
    {
     "name": "stdout",
     "output_type": "stream",
     "text": [
      "tensor([[0.0036],\n",
      "        [0.9976],\n",
      "        [0.9976],\n",
      "        [0.0039]], device='cuda:0', grad_fn=<SigmoidBackward0>)\n"
     ]
    }
   ],
   "source": [
    "preds = xor(X.to(device))\n",
    "print(preds)"
   ]
  },
  {
   "cell_type": "code",
   "execution_count": 8,
   "id": "f5a972a4-89ed-443c-b044-501794dd8c9f",
   "metadata": {},
   "outputs": [],
   "source": [
    "params = dict(xor.named_parameters())"
   ]
  },
  {
   "cell_type": "code",
   "execution_count": 9,
   "id": "2cc4271a-dccc-4b02-bd3d-828364926166",
   "metadata": {
    "scrolled": true
   },
   "outputs": [
    {
     "name": "stdout",
     "output_type": "stream",
     "text": [
      "tensor([[1.],\n",
      "        [1.],\n",
      "        [1.],\n",
      "        [1.]], device='cuda:0', grad_fn=<SigmoidBackward0>)\n"
     ]
    }
   ],
   "source": [
    "Xd = X.to(device)\n",
    "l1_out = Xd @ params['linears.0.weight'].t() + params['linears.0.bias']\n",
    "l1_act = F.relu(l1_out)\n",
    "l2_out = l1_act @ params['linears.1.weight'].t() + params['linears.1.bias']\n",
    "l2_act = F.sigmoid(l2_out)\n",
    "\n",
    "print(l2_act)"
   ]
  },
  {
   "cell_type": "code",
   "execution_count": 10,
   "id": "2f8dd607-b2cb-4470-bab1-271c5ac916d0",
   "metadata": {},
   "outputs": [
    {
     "name": "stdout",
     "output_type": "stream",
     "text": [
      "linears.0.weight Parameter containing:\n",
      "tensor([[-7.7153, -7.7158],\n",
      "        [ 9.8049,  9.5533]], device='cuda:0', requires_grad=True)\n",
      "linears.0.bias Parameter containing:\n",
      "tensor([11.3548, -4.6538], device='cuda:0', requires_grad=True)\n",
      "linears.1.weight Parameter containing:\n",
      "tensor([[12.1675, 12.1476]], device='cuda:0', requires_grad=True)\n",
      "linears.1.bias Parameter containing:\n",
      "tensor([-17.9007], device='cuda:0', requires_grad=True)\n"
     ]
    }
   ],
   "source": [
    "for k,v  in params.items():\n",
    "    print(k, v)"
   ]
  },
  {
   "cell_type": "markdown",
   "id": "137252ce-197e-4c0c-b9a5-1e0c1f3e0d4e",
   "metadata": {},
   "source": [
    "# Q2) ReLU"
   ]
  },
  {
   "cell_type": "code",
   "execution_count": null,
   "id": "4787fda9-4b91-4a0f-a6a9-507d1392e378",
   "metadata": {},
   "outputs": [],
   "source": [
    "device = \"cuda\" if torch.cuda.is_available() else \"cpu\"\n",
    "\n",
    "class NeuralNetwork(nn.Module):\n",
    "    \n",
    "    def __init__(self, layer_sizes, activation=F.relu):\n",
    "        super(NeuralNetwork, self).__init__()\n",
    "        self.linears = nn.ModuleList(\n",
    "            [nn.Linear(v, layer_sizes[i+1]) for i, v in enumerate(layer_sizes[:-1])]\n",
    "        )\n",
    "        self.activation = activation\n",
    "        \n",
    "    def forward(self, x):\n",
    "        for l in self.linears[:-1]:\n",
    "            x = self.activation(l(x))\n",
    "\n",
    "        x = self.linears[-1](x)\n",
    "        x = F.sigmoid(x)\n",
    "            \n",
    "        return x"
   ]
  },
  {
   "cell_type": "code",
   "execution_count": null,
   "id": "35fbf390-1046-4840-b528-6e1a4f7f2f71",
   "metadata": {},
   "outputs": [],
   "source": [
    "X = torch.Tensor([[0, 0], [0, 1], [1, 0], [1, 1]])\n",
    "y = torch.Tensor([0, 1, 1, 0]).reshape(-1, 1)"
   ]
  },
  {
   "cell_type": "code",
   "execution_count": null,
   "id": "7a1ecb44-f280-41dd-a72e-fbccdeda9403",
   "metadata": {},
   "outputs": [],
   "source": [
    "class XORDataset(Dataset):\n",
    "\n",
    "    def __init__(self, X, y):\n",
    "        self.X = X\n",
    "        self.y = y\n",
    "\n",
    "    def __len__(self):\n",
    "        return len(self.y)\n",
    "\n",
    "    def __getitem__(self, index):\n",
    "        return self.X[index].to(device), self.y[index].to(device)"
   ]
  },
  {
   "cell_type": "code",
   "execution_count": null,
   "id": "ad968e9d-229f-4ea7-a9ef-7d6542961f20",
   "metadata": {},
   "outputs": [],
   "source": [
    "xor_data = XORDataset(X, y)\n",
    "xor_dataloader = DataLoader(xor_data, batch_size=4, shuffle=True)"
   ]
  },
  {
   "cell_type": "code",
   "execution_count": 17,
   "id": "df2c3183-2109-4b81-b107-112887e69581",
   "metadata": {},
   "outputs": [
    {
     "name": "stdout",
     "output_type": "stream",
     "text": [
      "Final loss = 4.4914589381050973e-08\n"
     ]
    },
    {
     "data": {
      "image/png": "[encoded data removed]",
      "text/plain": [
       "<Figure size 800x550 with 1 Axes>"
      ]
     },
     "metadata": {},
     "output_type": "display_data"
    }
   ],
   "source": [
    "LEARNING_RATE = 0.03\n",
    "NUM_EPOCHS = 10000\n",
    "\n",
    "layers = [2, 6, 3, 1]\n",
    "# (2, 6), (6, 3), (3, 1)\n",
    "xor = NeuralNetwork(layers, activation=F.relu).to(device)\n",
    "criterion = nn.BCELoss().to(device)\n",
    "optimizer = torch.optim.Adam(xor.parameters(), lr=LEARNING_RATE)\n",
    "losses = []\n",
    "\n",
    "for epoch in range(NUM_EPOCHS):\n",
    "\n",
    "    for batch_inputs, batch_labels in xor_dataloader:\n",
    "    \n",
    "        optimizer.zero_grad()\n",
    "        outputs = xor(batch_inputs)\n",
    "        loss = criterion(outputs, batch_labels)\n",
    "        \n",
    "        loss.backward()\n",
    "        optimizer.step()\n",
    "        \n",
    "        losses.append(loss.item())\n",
    "    \n",
    "\n",
    "print(f\"Final loss = {losses[-1]}\")\n",
    "plt.plot(range(NUM_EPOCHS), losses)\n",
    "plt.show()"
   ]
  },
  {
   "cell_type": "code",
   "execution_count": null,
   "id": "c621b672-078d-4675-b444-4aa62c086b83",
   "metadata": {},
   "outputs": [],
   "source": [
    "preds = xor(X.to(device))\n",
    "print(preds)"
   ]
  },
  {
   "cell_type": "markdown",
   "id": "449ad96a-1bc8-44ae-ab0c-3399189d333f",
   "metadata": {},
   "source": [
    "# Q4) MNIST"
   ]
  },
  {
   "cell_type": "code",
   "execution_count": null,
   "id": "39d0f498-7dce-462e-bbc3-4225347b94ab",
   "metadata": {},
   "outputs": [],
   "source": [
    "transform = transforms.Compose([\n",
    "    transforms.ToTensor(),\n",
    "    transforms.Lambda(lambda x: torch.flatten(x))\n",
    "])\n",
    "\n",
    "mnist_trainset = torchvision.datasets.MNIST(root='../datasets/MNIST/', train=True, download=True, transform=transform)\n",
    "mnist_testset = torchvision.datasets.MNIST(root='../datasets/MNIST', train=False, download=True, transform=transform)\n",
    "\n",
    "data_loading_params = {'batch_size': 16,\n",
    "                       'shuffle': True,\n",
    "                       'num_workers': 6\n",
    "                      }\n",
    "\n",
    "train_data = torch.utils.data.DataLoader(mnist_trainset, **data_loading_params)\n",
    "test_data = torch.utils.data.DataLoader(mnist_testset, **data_loading_params)"
   ]
  },
  {
   "cell_type": "code",
   "execution_count": null,
   "id": "411ae8e8-30d0-47a6-af8e-f11cb923a7fd",
   "metadata": {},
   "outputs": [],
   "source": [
    "device = \"cuda\" if torch.cuda.is_available() else \"cpu\"\n",
    "\n",
    "class NeuralNetwork(nn.Module):\n",
    "    \n",
    "    def __init__(self, layer_sizes, activation=F.relu):\n",
    "        super(NeuralNetwork, self).__init__()\n",
    "        self.linears = nn.ModuleList(\n",
    "            [nn.Linear(v, layer_sizes[i+1]) for i, v in enumerate(layer_sizes[:-1])]\n",
    "        )\n",
    "        self.activation = activation\n",
    "        \n",
    "    def forward(self, x):\n",
    "        for l in self.linears[:-1]:\n",
    "            x = self.activation(l(x))\n",
    "\n",
    "        x = self.linears[-1](x)\n",
    "            \n",
    "        return x"
   ]
  },
  {
   "cell_type": "code",
   "execution_count": null,
   "id": "18f6e029-6bfc-450c-899e-08f512dca1a0",
   "metadata": {},
   "outputs": [],
   "source": [
    "def fit(model, train_data, criterion, optimizer, num_epochs=10):\n",
    "\n",
    "    for epoch in tqdm(range(num_epochs), desc=\"Epochs\", leave=False):\n",
    "        for local_batch, local_labels in tqdm(train_data, desc=\"Batches\", leave=False):\n",
    "    \n",
    "            local_batch, local_labels = local_batch.to(device), local_labels.to(device)\n",
    "                \n",
    "            optimizer.zero_grad()\n",
    "            loss = criterion(model(local_batch), local_labels)\n",
    "    \n",
    "            loss.backward()\n",
    "            optimizer.step()"
   ]
  },
  {
   "cell_type": "code",
   "execution_count": null,
   "id": "a2229404-5797-4038-9bac-024e5aac86f0",
   "metadata": {},
   "outputs": [],
   "source": [
    "device = \"cuda\" if torch.cuda.is_available() else \"cpu\"\n",
    "\n",
    "LEARNING_RATE = 0.003\n",
    "\n",
    "model = NeuralNetwork(layer_sizes=[784, 100, 100, 10]).to(device)\n",
    "optimizer = torch.optim.Adam(model.parameters(), lr=LEARNING_RATE)\n",
    "criterion = nn.CrossEntropyLoss()\n",
    "\n",
    "fit(model, train_data, criterion, optimizer, num_epochs=10)"
   ]
  },
  {
   "cell_type": "code",
   "execution_count": null,
   "id": "d24cc0fa-7474-4ffb-81d8-1de94bb7dfce",
   "metadata": {},
   "outputs": [],
   "source": [
    "def calculate_accuracy(model, data_loader):\n",
    "    correct = 0\n",
    "    total = 0\n",
    "    \n",
    "    with torch.no_grad():\n",
    "        for images, labels in data_loader:\n",
    "            images, labels = images.to(device), labels.to(device)\n",
    "    \n",
    "            outputs = model(images)\n",
    "            _, predicted = torch.max(outputs.data, 1)\n",
    "                \n",
    "            total += labels.size(0)\n",
    "            correct += (predicted == labels).sum().item()\n",
    "    \n",
    "        # Calculate accuracy\n",
    "    accuracy = 100 * correct / total\n",
    "    return accuracy"
   ]
  },
  {
   "cell_type": "code",
   "execution_count": null,
   "id": "37f4ed09-f8d0-4dec-a628-5b18e55a3b10",
   "metadata": {},
   "outputs": [],
   "source": [
    "print(calculate_accuracy(model, train_data), calculate_accuracy(model, test_data))"
   ]
  },
  {
   "cell_type": "code",
   "execution_count": null,
   "id": "1720ca23-7497-4538-9114-ecb110c97137",
   "metadata": {},
   "outputs": [],
   "source": []
  }
 ],
 "metadata": {
  "kernelspec": {
   "display_name": "Python 3 (ipykernel)",
   "language": "python",
   "name": "python3"
  },
  "language_info": {
   "codemirror_mode": {
    "name": "ipython",
    "version": 3
   },
   "file_extension": ".py",
   "mimetype": "text/x-python",
   "name": "python",
   "nbconvert_exporter": "python",
   "pygments_lexer": "ipython3",
   "version": "3.11.7"
  }
 },
 "nbformat": 4,
 "nbformat_minor": 5
}
